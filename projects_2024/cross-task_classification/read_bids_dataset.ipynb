{
 "cells": [
  {
   "cell_type": "markdown",
   "id": "c44f614b-802a-491a-bb01-c68a0698c663",
   "metadata": {},
   "source": [
    "# Multitask error vs correct classification\n"
   ]
  },
  {
   "cell_type": "code",
   "execution_count": null,
   "id": "6c600903-1788-4355-8d77-cfd7b1cb2730",
   "metadata": {},
   "outputs": [],
   "source": [
    "# you have to install openneuro-py and mne-bids packages\n",
    "# if using colab, run:\n",
    "# !pip install openneuro-py\n",
    "# !pip install mne-bids\n",
    "# if working locally, install modlules using pip\n",
    "\n",
    "import os\n",
    "import os.path as op\n",
    "import openneuro\n",
    "\n",
    "from mne.datasets import sample\n",
    "from mne_bids import (\n",
    "    BIDSPath,\n",
    "    read_raw_bids,\n",
    "    print_dir_tree,\n",
    "    make_report,\n",
    "    find_matching_paths,\n",
    "    get_entity_vals,\n",
    ")\n",
    "import mne\n",
    "\n",
    "import numpy as np"
   ]
  },
  {
   "cell_type": "markdown",
   "id": "d1dd2c51-5c9e-4d8a-ba24-0991aec73a00",
   "metadata": {},
   "source": [
    "## 1. Download dataset"
   ]
  },
  {
   "cell_type": "code",
   "execution_count": null,
   "id": "4ea65dbd-fbf0-4f12-99fe-753e6be7c616",
   "metadata": {},
   "outputs": [],
   "source": [
    "dataset = \"ds004883\"\n",
    "\n",
    "# number of participants to fetch\n",
    "n = 10\n",
    "subjects = [f'sub-{subject:03}' for subject in range(1, n)]\n",
    "\n",
    "# Download one subject's data from each dataset\n",
    "bids_root = op.join(op.dirname(sample.data_path()), dataset)\n",
    "if not op.isdir(bids_root):\n",
    "    os.makedirs(bids_root)\n",
    "\n",
    "# this download full dataset, it might took few hours\n",
    "openneuro.download(dataset=dataset, target_dir=bids_root, include=subjects)"
   ]
  },
  {
   "cell_type": "markdown",
   "id": "ea816968-7e80-44ec-8ae3-e1c58e2275ec",
   "metadata": {},
   "source": [
    "## 2. Read data and create epochs"
   ]
  },
  {
   "cell_type": "code",
   "execution_count": null,
   "id": "f403c30c-5f56-4908-beb1-6420e8eeac29",
   "metadata": {},
   "outputs": [],
   "source": [
    "def read_flanker_data(participants_num=10):\n",
    "    datatype = \"eeg\"\n",
    "    bids_path = BIDSPath(root=bids_root, datatype=datatype)\n",
    "    \n",
    "    tasks = [\n",
    "    \"ffa\", \n",
    "    \"ffb\", \n",
    "    'ffc'\n",
    "    ]\n",
    "    subjects = [f'{subject:03}' for subject in range(1, participants_num)]\n",
    "    suffix = \"eeg\"\n",
    "\n",
    "    # define montage to be set\n",
    "    montage = mne.channels.make_standard_montage('GSN-HydroCel-129')\n",
    "    \n",
    "    eeg_data = {}\n",
    "    for task in tasks:\n",
    "        for subject_id in subjects:\n",
    "            # extract subject and task specific path to data\n",
    "            bids_path = bids_path.update(subject=subject_id, task=task, suffix=suffix) \n",
    "\n",
    "            # create raw\n",
    "            this_raw = read_raw_bids(bids_path=bids_path, verbose=False, extra_params={'preload':True})\n",
    "        \n",
    "            ################################\n",
    "            ### Basic preprocessing\n",
    "            ################################\n",
    "        \n",
    "            # set montage\n",
    "            this_raw.set_montage(montage)\n",
    "        \n",
    "            # filter data\n",
    "            raw_filtered = this_raw.copy().filter(\n",
    "                l_freq=.1,\n",
    "                h_freq=30.0,\n",
    "                n_jobs=10,\n",
    "                method='iir',\n",
    "                iir_params=None,\n",
    "            )\n",
    "        \n",
    "            # Notch filter at 60 Hz\n",
    "            raw_filtered = raw_filtered.notch_filter(\n",
    "                freqs=np.arange(60, (raw_filtered.info['sfreq'] / 2), 60),\n",
    "                n_jobs=10,\n",
    "            )\n",
    "        \n",
    "            # create events\n",
    "            events, events_ids = mne.events_from_annotations(raw_filtered)\n",
    "        \n",
    "            # create epochs\n",
    "            epochs = mne.Epochs(\n",
    "                raw_filtered, \n",
    "                tmin=-0.2,\n",
    "                tmax=0.8,\n",
    "                events=events, \n",
    "                event_id= {'cor': 2, 'err': 3},\n",
    "                baseline=(-0.2, 0)\n",
    "            )\n",
    "        \n",
    "            ################################\n",
    "            ### Add epochs to dict\n",
    "            ################################\n",
    "            \n",
    "            if task in eeg_data.keys():\n",
    "                eeg_data[task].append(epochs)\n",
    "            else:\n",
    "                eeg_data[task] = [epochs]\n",
    "    return eeg_data"
   ]
  },
  {
   "cell_type": "code",
   "execution_count": null,
   "id": "5f165abe-69d8-4f0b-a10b-6e780ad4db07",
   "metadata": {},
   "outputs": [],
   "source": [
    "data = read_flanker_data(participants_num=n)"
   ]
  }
 ],
 "metadata": {
  "kernelspec": {
   "display_name": "net",
   "language": "python",
   "name": "net"
  },
  "language_info": {
   "codemirror_mode": {
    "name": "ipython",
    "version": 3
   },
   "file_extension": ".py",
   "mimetype": "text/x-python",
   "name": "python",
   "nbconvert_exporter": "python",
   "pygments_lexer": "ipython3",
   "version": "3.8.10"
  }
 },
 "nbformat": 4,
 "nbformat_minor": 5
}
