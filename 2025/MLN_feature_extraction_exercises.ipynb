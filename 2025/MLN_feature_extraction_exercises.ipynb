{
  "nbformat": 4,
  "nbformat_minor": 0,
  "metadata": {
    "colab": {
      "provenance": [],
      "toc_visible": true,
      "authorship_tag": "ABX9TyPwB0NUjDuvN0je5SVmaQTT",
      "include_colab_link": true
    },
    "kernelspec": {
      "name": "python3",
      "display_name": "Python 3"
    },
    "language_info": {
      "name": "python"
    }
  },
  "cells": [
    {
      "cell_type": "markdown",
      "metadata": {
        "id": "view-in-github",
        "colab_type": "text"
      },
      "source": [
        "<a href=\"https://colab.research.google.com/github/abelowska/mlNeuro/blob/main/2025/MLN_feature_extraction_exercises.ipynb\" target=\"_parent\"><img src=\"https://colab.research.google.com/assets/colab-badge.svg\" alt=\"Open In Colab\"/></a>"
      ]
    },
    {
      "cell_type": "markdown",
      "source": [
        "# Basic feature extraction exercises using MNE"
      ],
      "metadata": {
        "id": "7Et0uoaM6IZR"
      }
    },
    {
      "cell_type": "markdown",
      "source": [
        "Install [`MNE`](https://mne.tools/stable/index.html):"
      ],
      "metadata": {
        "id": "HqID6wxp6g5p"
      }
    },
    {
      "cell_type": "code",
      "source": [
        "!pip install mne"
      ],
      "metadata": {
        "id": "lrBNP7oQ5Irj"
      },
      "execution_count": null,
      "outputs": []
    },
    {
      "cell_type": "markdown",
      "source": [
        "Imports"
      ],
      "metadata": {
        "id": "7MTF2UKl6IbW"
      }
    },
    {
      "cell_type": "code",
      "execution_count": null,
      "metadata": {
        "id": "ce9bBEd04ulQ"
      },
      "outputs": [],
      "source": [
        "from pathlib import Path\n",
        "import matplotlib.pyplot as plt\n",
        "import mne\n",
        "import numpy as np\n",
        "import pandas as pd"
      ]
    },
    {
      "cell_type": "markdown",
      "source": [
        "## Load data"
      ],
      "metadata": {
        "id": "ifRuaAV27zX6"
      }
    },
    {
      "cell_type": "markdown",
      "source": [
        "We are going to use data from the [ERP CORE Dataset](https://doi.org/10.1016/j.neuroimage.2020.117465) via `MNE`. This dataset contains EEG recordings from a single participant performing the Flanker task. Thus, we can extract signal segments around events where we expect the synchronization of large populations of neurons, leading to observable event-related activity."
      ],
      "metadata": {
        "id": "vFw1IJYV75d0"
      }
    },
    {
      "cell_type": "code",
      "source": [
        "# download dataset\n",
        "data_dir = Path(mne.datasets.erp_core.data_path('.'))\n",
        "file_name = data_dir / \"ERP-CORE_Subject-001_Task-Flankers_eeg.fif\"\n",
        "\n",
        "# read raw from one individual\n",
        "raw = mne.io.read_raw(file_name, preload=True)\n",
        "\n",
        "# filter data\n",
        "raw_filtered = raw.copy().filter(l_freq=0.1, h_freq=30)"
      ],
      "metadata": {
        "id": "3RGDU1ag5IEn"
      },
      "execution_count": null,
      "outputs": []
    },
    {
      "cell_type": "markdown",
      "source": [
        "Let's see our EEG data:"
      ],
      "metadata": {
        "id": "OyxLy0hX-yFn"
      }
    },
    {
      "cell_type": "code",
      "source": [
        "fig = raw_filtered.plot(start=60)"
      ],
      "metadata": {
        "id": "6ALQpt79-v2x"
      },
      "execution_count": null,
      "outputs": []
    },
    {
      "cell_type": "markdown",
      "source": [
        "**On the plot, we can see the triggers (events) marked with vertical colored lines.**"
      ],
      "metadata": {
        "id": "1JAxRYKRBUsf"
      }
    },
    {
      "cell_type": "markdown",
      "source": [
        "## Create epochs around stimuli"
      ],
      "metadata": {
        "id": "jqmVZ2jwIBTa"
      }
    },
    {
      "cell_type": "code",
      "source": [
        "# set the time-window of the segments in seconds\n",
        "tmin=-0.2\n",
        "tmax=0.8\n",
        "\n",
        "# get the events list from raw\n",
        "events, _ = mne.events_from_annotations(raw_filtered)\n",
        "\n",
        "# select only subset of our events - those related to stimuli\n",
        "event_ids = {\n",
        "  'stimulus/compatible/target_left': 3,\n",
        "  'stimulus/compatible/target_right': 4,\n",
        "  'stimulus/incompatible/target_left': 5,\n",
        "  'stimulus/incompatible/target_right': 6\n",
        " }\n",
        "\n",
        "# create segments (Epochs)\n",
        "epochs = mne.Epochs(\n",
        "  raw=raw_filtered,\n",
        "  events=events,\n",
        "  event_id=event_ids,\n",
        "  tmin=tmin,\n",
        "  tmax=tmax,\n",
        "  baseline=(-0.2, 0),\n",
        "  preload=True,\n",
        ")"
      ],
      "metadata": {
        "id": "pNBmWI3yIitP"
      },
      "execution_count": null,
      "outputs": []
    },
    {
      "cell_type": "markdown",
      "source": [
        "Plot the epochs: each epoch as one row of an image map, with color representing signal magnitude; the average evoked response and the sensor location are also shown on the image:"
      ],
      "metadata": {
        "id": "RV9gAl9AJ8mP"
      }
    },
    {
      "cell_type": "code",
      "source": [
        "fig = epochs.plot_image(picks=['FCz'])"
      ],
      "metadata": {
        "id": "QHXI9VhYIivM"
      },
      "execution_count": null,
      "outputs": []
    },
    {
      "cell_type": "markdown",
      "source": [
        "## ERP Features\n",
        "\n",
        "Try to code all the features extractions below:"
      ],
      "metadata": {
        "id": "AoOOV3xYI75u"
      }
    },
    {
      "cell_type": "markdown",
      "source": [
        "### ERP-Feature 1: Mean amplitude in time-window\n",
        "\n",
        "Get the mean aplitude from the time-window 0.2 - 0.4 for each trial for one channel Cz. Your output vector should have shape of `(400, 1)`."
      ],
      "metadata": {
        "id": "p7o-bAdkJDKJ"
      }
    },
    {
      "cell_type": "code",
      "source": [
        "# your code here"
      ],
      "metadata": {
        "id": "Zq_aDGaxJpE4"
      },
      "execution_count": null,
      "outputs": []
    },
    {
      "cell_type": "markdown",
      "source": [
        "Get the mean aplitude from the time-window 0.2 - 0.4 for each trial for all channels. Your output vector should have shape of `(400, 33)`."
      ],
      "metadata": {
        "id": "FcBWU1i9KPXP"
      }
    },
    {
      "cell_type": "code",
      "source": [
        "# your code here"
      ],
      "metadata": {
        "id": "b6LFTb1dKPfd"
      },
      "execution_count": null,
      "outputs": []
    },
    {
      "cell_type": "markdown",
      "source": [
        "### ERP-Feature 2: Peak amplitude\n",
        "\n",
        "Get the positive peak aplitude from the time-window 0.2 - 0.4, i.e., the highest amplitude within this window, for each trial in channel Cz. You can use e.g. `np.max()`. Your output vector should have shape of `(400, 1)`."
      ],
      "metadata": {
        "id": "hTduEZb_Kifx"
      }
    },
    {
      "cell_type": "code",
      "source": [
        "# your code here"
      ],
      "metadata": {
        "id": "lpCQ0rM1L2XH"
      },
      "execution_count": null,
      "outputs": []
    },
    {
      "cell_type": "markdown",
      "source": [
        "Get the negative peak aplitude within the time window 0 - 0.2, i.e., the lowest amplitude within this window, for each trial in channel Cz. Your output vector should have shape of `(400, 1)`."
      ],
      "metadata": {
        "id": "LKtb4dz0L2eg"
      }
    },
    {
      "cell_type": "code",
      "source": [
        "# your code here"
      ],
      "metadata": {
        "id": "iXGHQEOVL2l6"
      },
      "execution_count": null,
      "outputs": []
    },
    {
      "cell_type": "markdown",
      "source": [
        "### ERP-Feature 3: Peak latency\n",
        "\n",
        "Get the latency of the positive peak amplitude within the time window 0.2 - 0.4 seconds, i.e., the time point (index) of the highest amplitude within this window, for each trial in channel Cz. Your output vector should have a shape of `(400, 1)`."
      ],
      "metadata": {
        "id": "PAo4D8evMCRM"
      }
    },
    {
      "cell_type": "code",
      "source": [
        "# your code here"
      ],
      "metadata": {
        "id": "9kTBsbUJMfDy"
      },
      "execution_count": null,
      "outputs": []
    },
    {
      "cell_type": "markdown",
      "source": [
        "## Oscillatory Features\n",
        "\n",
        "Try to code all the features extractions:"
      ],
      "metadata": {
        "id": "XRhGNtBJMhN3"
      }
    },
    {
      "cell_type": "markdown",
      "source": [
        "### Oscillatory-Feature 1: Log-variance of the signal\n",
        "\n",
        "Calculate the log-variance of the alpha (8-13 Hz) band for one channel Cz. Mind, that you have to (1) filter your raw data first, (2) create epochs, (3) calculate log-variance for all segments. Your output vector should have shape of `(400, 1)`."
      ],
      "metadata": {
        "id": "i2JyN33TMhQb"
      }
    },
    {
      "cell_type": "code",
      "source": [
        "# 1. filter raw\n",
        "l_freq = # your code here\n",
        "h_freq = # your code here\n",
        "\n",
        "raw_alpha = raw.copy().filter(l_freq=l_freq, h_freq=h_freq)\n",
        "\n",
        "\n",
        "# 2. create epochs/segments\n",
        "# set the time-window of the segments in seconds\n",
        "tmin=-0.2\n",
        "tmax=0.8\n",
        "\n",
        "# get the events list from raw\n",
        "events, _ = mne.events_from_annotations(raw_alpha)\n",
        "\n",
        "# select only subset of our events - those related to stimuli\n",
        "event_ids = {\n",
        "  'stimulus/compatible/target_left': 3,\n",
        "  'stimulus/compatible/target_right': 4,\n",
        "  'stimulus/incompatible/target_left': 5,\n",
        "  'stimulus/incompatible/target_right': 6\n",
        " }\n",
        "\n",
        "# create segments (Epochs)\n",
        "epochs_alpha = mne.Epochs(\n",
        "  raw=raw_alpha,\n",
        "  events=events,\n",
        "  event_id=event_ids,\n",
        "  tmin=tmin,\n",
        "  tmax=tmax,\n",
        "  baseline=(-0.2, 0),\n",
        "  preload=True,\n",
        ")"
      ],
      "metadata": {
        "id": "UNWaXI2BMhag"
      },
      "execution_count": null,
      "outputs": []
    },
    {
      "cell_type": "code",
      "source": [
        "# 3. calculate the log-variance of the epochs_alpha\n",
        "\n",
        "# your code here"
      ],
      "metadata": {
        "id": "wsltQpc2Oovw"
      },
      "execution_count": null,
      "outputs": []
    },
    {
      "cell_type": "markdown",
      "source": [
        "### Oscillatory-Feature 2: Power of brain bands.\n",
        "\n",
        "Calculate the power of the each of main brain bands (delta, theta, alpha, beta) for one channel Cz. Use [`compute_psd()`](https://mne.tools/stable/generated/mne.Epochs.html#mne.Epochs.compute_psd) method to create **spectral representation of each epoch**. `compute_psd()` returns [`EpochsSpectrum`](https://mne.tools/stable/generated/mne.time_frequency.EpochsSpectrum.html#mne.time_frequency.EpochsSpectrum) object. You can get frequency data from `EpochsSpectrum` in a similar way as from `Epochs` (using `get_data()`), but instead of time-window you have to provide lower and upper limit of the band you would like to extract. Then you have to calculate the mean of the returned frequencies, to get the average power within given band.\n",
        "\n",
        "Your output vector should have shape of `(400, 1, 4)`."
      ],
      "metadata": {
        "id": "_kQ_-FdzO3hJ"
      }
    },
    {
      "cell_type": "code",
      "source": [
        "# 1. Compute epochs PSD\n",
        "epochs_spectrum = epochs.compute_psd(fmin = 1.0, fmax = 30.0)\n",
        "fig = epochs_spectrum.plot()"
      ],
      "metadata": {
        "id": "umZP8wVUMhcy"
      },
      "execution_count": null,
      "outputs": []
    },
    {
      "cell_type": "code",
      "source": [
        "# 2. extract and average the data for 4 brain bands\n",
        "\n",
        "# your code here"
      ],
      "metadata": {
        "id": "33tKt5_oMhep"
      },
      "execution_count": null,
      "outputs": []
    }
  ]
}