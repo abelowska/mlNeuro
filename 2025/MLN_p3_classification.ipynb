{
  "nbformat": 4,
  "nbformat_minor": 0,
  "metadata": {
    "colab": {
      "provenance": [],
      "toc_visible": true,
      "authorship_tag": "ABX9TyMup6uj1jnQEdt0SPYOmEbx",
      "include_colab_link": true
    },
    "kernelspec": {
      "name": "python3",
      "display_name": "Python 3"
    },
    "language_info": {
      "name": "python"
    }
  },
  "cells": [
    {
      "cell_type": "markdown",
      "metadata": {
        "id": "view-in-github",
        "colab_type": "text"
      },
      "source": [
        "<a href=\"https://colab.research.google.com/github/abelowska/mlNeuro/blob/main/2025/MLN_p3_classification.ipynb\" target=\"_parent\"><img src=\"https://colab.research.google.com/assets/colab-badge.svg\" alt=\"Open In Colab\"/></a>"
      ]
    },
    {
      "cell_type": "markdown",
      "source": [
        "# Simple P300 Speller\n",
        "\n",
        "Detect when participant see target, and when non-target stimuli using [BI2015a dataset](https://neurotechx.github.io/moabb/generated/moabb.datasets.BI2015a.html#moabb.datasets.BI2015a)."
      ],
      "metadata": {
        "id": "ODKcAdRpEeOJ"
      }
    },
    {
      "cell_type": "code",
      "source": [
        "!pip install moabb\n",
        "!pip install mne"
      ],
      "metadata": {
        "id": "XrOGdAUfEdad"
      },
      "execution_count": null,
      "outputs": []
    },
    {
      "cell_type": "markdown",
      "source": [
        "Imports"
      ],
      "metadata": {
        "id": "vYXtlf47OZum"
      }
    },
    {
      "cell_type": "code",
      "source": [
        "import moabb\n",
        "import mne\n",
        "import numpy as np\n",
        "import matplotlib.pyplot as plt\n",
        "import time\n",
        "from sklearn.metrics import accuracy_score, classification_report, confusion_matrix\n",
        "\n",
        "from sklearn.discriminant_analysis import LinearDiscriminantAnalysis"
      ],
      "metadata": {
        "id": "Y6GhZk2DEwvM"
      },
      "execution_count": null,
      "outputs": []
    },
    {
      "cell_type": "markdown",
      "source": [
        "## Prepare data"
      ],
      "metadata": {
        "id": "2Y-wkDlIR_xP"
      }
    },
    {
      "cell_type": "markdown",
      "source": [
        "### 1. Fetch data"
      ],
      "metadata": {
        "id": "G0UVYnuAOc53"
      }
    },
    {
      "cell_type": "code",
      "execution_count": null,
      "metadata": {
        "id": "FhmbjyhwEbWO"
      },
      "outputs": [],
      "source": [
        "# Get data fro one subject. It might take a while\n",
        "dataset = moabb.datasets.BI2015a()\n",
        "data = dataset.get_data(subjects=[1])"
      ]
    },
    {
      "cell_type": "code",
      "source": [
        "data[]"
      ],
      "metadata": {
        "id": "S1brgoQYSKIs"
      },
      "execution_count": null,
      "outputs": []
    },
    {
      "cell_type": "markdown",
      "source": [
        "Extract `MNE` `Raw` from the downloaded data"
      ],
      "metadata": {
        "id": "bm7SpMaAQTL2"
      }
    },
    {
      "cell_type": "code",
      "source": [
        "subject = 1\n",
        "session = '0'\n",
        "run = '0'\n",
        "\n",
        "raw = data[subject][session][run]\n",
        "raw"
      ],
      "metadata": {
        "id": "I5ZSua96JWVB"
      },
      "execution_count": null,
      "outputs": []
    },
    {
      "cell_type": "markdown",
      "source": [
        "### 2. Simple Raw pre-processing"
      ],
      "metadata": {
        "id": "cLiNdL9bQrWI"
      }
    },
    {
      "cell_type": "code",
      "source": [
        "fig = raw.plot()\n",
        "fig = raw.compute_psd().plot()\n",
        "# 1. re-reference: to almost-mastoids\n",
        "raw.set_eeg_reference(ref_channels=['T7', 'T8'])\n",
        "\n",
        "# 2. band-pass filter\n",
        "raw_filtered = raw.copy().filter(\n",
        "    picks=['eeg'],\n",
        "    l_freq=.1,\n",
        "    h_freq=30.0,\n",
        "    n_jobs=10,\n",
        "    method='iir',\n",
        "    iir_params=None\n",
        "    )\n",
        "\n",
        "# 3. Notch filter\n",
        "power_freq = 50\n",
        "nyquist_freq = raw_filtered.info['sfreq'] / 2\n",
        "\n",
        "raw_filtered = raw_filtered.notch_filter(\n",
        "    picks=['eeg', 'eog'],\n",
        "    freqs=np.arange(power_freq, nyquist_freq, power_freq),\n",
        "    n_jobs=10,\n",
        ")\n",
        "\n",
        "fig = raw_filtered.plot()\n",
        "fig = raw_filtered.compute_psd().plot()"
      ],
      "metadata": {
        "id": "1r11HXbAJ4Kl"
      },
      "execution_count": null,
      "outputs": []
    },
    {
      "cell_type": "markdown",
      "source": [
        "### 3. Create segments around stimuli"
      ],
      "metadata": {
        "id": "rlzcoWiIRDf4"
      }
    },
    {
      "cell_type": "code",
      "source": [
        "# fing events on the STIM channel\n",
        "events = mne.find_events(raw_filtered)\n",
        "\n",
        "# create events dict\n",
        "event_ids = {'Target': 2, 'Non-Target': 1}\n",
        "\n",
        "# create segments\n",
        "tmin = -0.2\n",
        "tmax = 0.6\n",
        "baseline = (-0.2,0)\n",
        "epochs = mne.Epochs(\n",
        "    raw_filtered,\n",
        "    events,\n",
        "    event_id=event_ids,\n",
        "    tmin=tmin,\n",
        "    tmax=tmax,\n",
        "    baseline=baseline,\n",
        ")\n",
        "\n",
        "epochs"
      ],
      "metadata": {
        "id": "rts1LLkPJ6ND"
      },
      "execution_count": null,
      "outputs": []
    },
    {
      "cell_type": "markdown",
      "source": [
        "### 4. Look into EEG signal for target and non-target stimuli"
      ],
      "metadata": {
        "id": "BEeZPVJMRknz"
      }
    },
    {
      "cell_type": "code",
      "source": [
        "# create ERPs\n",
        "target_erp = epochs['Target'].average()\n",
        "nontarget_erp = epochs['Non-Target'].average()\n",
        "\n",
        "# compare target and non-target ERPs\n",
        "picks = ['Cz']\n",
        "\n",
        "fig = mne.viz.plot_compare_evokeds(\n",
        "    evokeds = {'target': target_erp, 'non-target': nontarget_erp},\n",
        "    picks=picks,\n",
        "    invert_y=True\n",
        ")"
      ],
      "metadata": {
        "id": "C20pRHVyLMXm"
      },
      "execution_count": null,
      "outputs": []
    },
    {
      "cell_type": "markdown",
      "source": [
        "## ML model"
      ],
      "metadata": {
        "id": "2fIP4H5IR6PD"
      }
    },
    {
      "cell_type": "markdown",
      "source": [
        "Now you can use your `epochs` to create a model"
      ],
      "metadata": {
        "id": "3TEmQfGASZSM"
      }
    },
    {
      "cell_type": "code",
      "source": [
        "# your code here"
      ],
      "metadata": {
        "id": "uwkLL_x9R6YC"
      },
      "execution_count": null,
      "outputs": []
    },
    {
      "cell_type": "markdown",
      "source": [
        "## Test your model"
      ],
      "metadata": {
        "id": "u9KQTXjQSUc9"
      }
    },
    {
      "cell_type": "code",
      "source": [
        "def get_test_data(session='1'):\n",
        "  subject = 1\n",
        "  session = session\n",
        "  run = '0'\n",
        "\n",
        "  test_raw = data[subject][session][run]\n",
        "  # 1. re-reference: to almost-mastoids\n",
        "  test_raw.set_eeg_reference(ref_channels=['T7', 'T8'])\n",
        "\n",
        "  # 2. band-pass filter\n",
        "  test_raw_filtered = test_raw.copy().filter(\n",
        "      picks=['eeg'],\n",
        "      l_freq=.1,\n",
        "      h_freq=30.0,\n",
        "      n_jobs=10,\n",
        "      method='iir',\n",
        "      iir_params=None\n",
        "      )\n",
        "\n",
        "  # 3. Notch filter\n",
        "  power_freq = 50\n",
        "  nyquist_freq = test_raw_filtered.info['sfreq'] / 2\n",
        "\n",
        "  test_raw_filtered = test_raw_filtered.notch_filter(\n",
        "      picks=['eeg', 'eog'],\n",
        "      freqs=np.arange(power_freq, nyquist_freq, power_freq),\n",
        "      n_jobs=10,\n",
        "  )\n",
        "\n",
        "  # fing events on the STIM channel\n",
        "  events = mne.find_events(test_raw_filtered)\n",
        "\n",
        "  # create events dict\n",
        "  event_ids = {'Target': 2, 'Non-Target': 1}\n",
        "\n",
        "  # create segments\n",
        "  tmin = -0.2\n",
        "  tmax = 0.6\n",
        "  baseline = (-0.2,0)\n",
        "  test_epochs = mne.Epochs(\n",
        "      test_raw_filtered,\n",
        "      events,\n",
        "      event_id=event_ids,\n",
        "      tmin=tmin,\n",
        "      tmax=tmax,\n",
        "      baseline=baseline,\n",
        "  )\n",
        "\n",
        "  return test_epochs\n",
        "\n",
        "\n",
        "def test_checker(X_test, y_test, model, n_samples=10):\n",
        "  for i in range(len(X_test[:n_samples])):\n",
        "      print(f\"Checking test trial {i + 1}...\\n\")\n",
        "      time.sleep(1.4)\n",
        "\n",
        "      # Get the prediction for the current sample\n",
        "      y_pred = model.predict(X_test[i].reshape(1, -1))\n",
        "\n",
        "      # Check if the prediction is correct\n",
        "      if y_pred[0] == y_test[i]:\n",
        "          print(\"Correct! ❤️\\n\\n\")\n",
        "      else:\n",
        "          print(\"Incorrect! 😢\\n\\n\")\n",
        "\n",
        "      time.sleep(0.5)"
      ],
      "metadata": {
        "id": "6dzvtTygSmXF"
      },
      "execution_count": null,
      "outputs": []
    },
    {
      "cell_type": "code",
      "source": [
        "test_epochs = get_test_data(session='1')"
      ],
      "metadata": {
        "id": "2D2GIKuVSUmV"
      },
      "execution_count": null,
      "outputs": []
    },
    {
      "cell_type": "markdown",
      "source": [
        "Transform your data in exaclty the same way as training data, to facilitate testing procedure:"
      ],
      "metadata": {
        "id": "2kyaAHg7ToO0"
      }
    },
    {
      "cell_type": "code",
      "source": [
        "# your code here"
      ],
      "metadata": {
        "id": "35bJm7zBVPTN"
      },
      "execution_count": null,
      "outputs": []
    },
    {
      "cell_type": "markdown",
      "source": [
        "And run `test_checker()` !"
      ],
      "metadata": {
        "id": "MkfvPV9vYMkX"
      }
    },
    {
      "cell_type": "code",
      "source": [
        "test_checker(X_test=X_test, y_test=y_test, model=lda)"
      ],
      "metadata": {
        "id": "AZ83BKXgTSyX"
      },
      "execution_count": null,
      "outputs": []
    }
  ]
}