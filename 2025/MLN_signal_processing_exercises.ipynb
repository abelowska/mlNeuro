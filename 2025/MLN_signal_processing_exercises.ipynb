{
  "nbformat": 4,
  "nbformat_minor": 0,
  "metadata": {
    "colab": {
      "provenance": [],
      "toc_visible": true,
      "authorship_tag": "ABX9TyMOAwr+KhhpjDEJ+VGG33MK",
      "include_colab_link": true
    },
    "kernelspec": {
      "name": "python3",
      "display_name": "Python 3"
    },
    "language_info": {
      "name": "python"
    }
  },
  "cells": [
    {
      "cell_type": "markdown",
      "metadata": {
        "id": "view-in-github",
        "colab_type": "text"
      },
      "source": [
        "<a href=\"https://colab.research.google.com/github/abelowska/mlNeuro/blob/main/2025/MLN_signal_processing_exercises.ipynb\" target=\"_parent\"><img src=\"https://colab.research.google.com/assets/colab-badge.svg\" alt=\"Open In Colab\"/></a>"
      ]
    },
    {
      "cell_type": "markdown",
      "source": [
        "# Signal processing in MNE"
      ],
      "metadata": {
        "id": "7Et0uoaM6IZR"
      }
    },
    {
      "cell_type": "markdown",
      "source": [
        "[`MNE`](https://mne.tools/stable/index.html) is an open-source Python package for exploring, visualizing, and analyzing human neurophysiological data: MEG, EEG, sEEG, ECoG, NIRS, and more.\n",
        "\n",
        "The easiest way is to install MNE via Anaconda, `pip`, or `conda` (see [installation instructions](https://mne.tools/stable/install/manual_install.html))."
      ],
      "metadata": {
        "id": "HqID6wxp6g5p"
      }
    },
    {
      "cell_type": "code",
      "source": [
        "!pip install mne\n",
        "!pip install mne-bids\n",
        "!pip install openneuro-py"
      ],
      "metadata": {
        "id": "lrBNP7oQ5Irj"
      },
      "execution_count": null,
      "outputs": []
    },
    {
      "cell_type": "markdown",
      "source": [
        "Imports"
      ],
      "metadata": {
        "id": "7MTF2UKl6IbW"
      }
    },
    {
      "cell_type": "code",
      "execution_count": null,
      "metadata": {
        "id": "ce9bBEd04ulQ"
      },
      "outputs": [],
      "source": [
        "from pathlib import Path\n",
        "import matplotlib.pyplot as plt\n",
        "import mne\n",
        "import numpy as np\n",
        "import pandas as pd\n",
        "import os\n",
        "import os.path as op\n",
        "\n",
        "from mne.datasets import sample\n",
        "from mne_bids import BIDSPath, read_raw_bids\n",
        "import os\n",
        "import mne\n",
        "import openneuro\n",
        "from scipy import signal"
      ]
    },
    {
      "cell_type": "markdown",
      "source": [
        "## Download dataset"
      ],
      "metadata": {
        "id": "zG5xGGyvn9hF"
      }
    },
    {
      "cell_type": "code",
      "source": [
        "# Dataset and subject information\n",
        "dataset = \"ds003775\"\n",
        "subject = \"sub-001\"\n",
        "\n",
        "# Define the download path\n",
        "bids_root = os.path.join(os.path.dirname(mne.datasets.sample.data_path()), dataset)\n",
        "\n",
        "# Ensure the directory exists\n",
        "os.makedirs(bids_root, exist_ok=True)\n",
        "\n",
        "# Download the dataset (only the specified subject)\n",
        "openneuro.download(dataset=dataset, target_dir=bids_root, include=subject)"
      ],
      "metadata": {
        "id": "gOb8bMckn9pf"
      },
      "execution_count": null,
      "outputs": []
    },
    {
      "cell_type": "markdown",
      "source": [
        "## Load EEG data"
      ],
      "metadata": {
        "id": "PVt7lRcVreiI"
      }
    },
    {
      "cell_type": "code",
      "source": [
        "# BIDS parameters for loading EEG data\n",
        "datatype = \"eeg\"\n",
        "subject = \"001\"         # BIDS-formatted subject ID (without \"sub-\" prefix)\n",
        "session = \"t1\"          # Session name (e.g., \"ses-t1\")\n",
        "task = \"resteyesc\"      # Task name extracted from the file name\n",
        "suffix = \"eeg\"          # Data type suffix (e.g., \"eeg\")\n",
        "\n",
        "# Create a BIDSPath object\n",
        "bids_path = BIDSPath(root=bids_root, datatype=datatype,\n",
        "                     subject=subject, session=session,\n",
        "                     task=task, suffix=suffix)"
      ],
      "metadata": {
        "id": "nC2HePOHoYqt"
      },
      "execution_count": null,
      "outputs": []
    },
    {
      "cell_type": "markdown",
      "source": [
        "**MNE**-Python data structures are based around the FIF file format from Neuromag, but there are reader functions for a wide [variety of other data formats](https://mne.tools/stable/overview/implementation.html#data-formats). In our dataset data is stored in [The European Data Format (EDF) format](https://en.wikipedia.org/wiki/European_Data_Format). Data is loaded into so-called [`Raw`](https://mne.tools/stable/generated/mne.io.Raw.html#mne.io.Raw) object.\n"
      ],
      "metadata": {
        "id": "-6wnyLVvsXDs"
      }
    },
    {
      "cell_type": "code",
      "source": [
        "# Load the raw EEG data with preloading enabled\n",
        "raw = read_raw_bids(bids_path=bids_path, verbose=True,\n",
        "                         extra_params={'preload': True})\n",
        "\n",
        "# set the montage (localization of channels)\n",
        "raw = raw.set_montage('biosemi64')"
      ],
      "metadata": {
        "id": "hYPouElfsXKT"
      },
      "execution_count": null,
      "outputs": []
    },
    {
      "cell_type": "markdown",
      "source": [
        "## Display basic information about the loaded `Raw` data"
      ],
      "metadata": {
        "id": "GDawyjy_rXJq"
      }
    },
    {
      "cell_type": "markdown",
      "source": [
        "You can get a glimpse of the basic details of a Raw object by printing it; even more is available by printing its `info` attribute (a dictionary-like object that is preserved across Raw, Epochs, and Evoked objects). The `info` data structure keeps track of channel locations, applied filters, projectors, etc. Notice especially the chs entry, showing that MNE-Python detects different sensor types and handles each appropriately. See The Info data structure for more on the [`Info`](https://mne.tools/stable/generated/mne.Info.html) class."
      ],
      "metadata": {
        "id": "tU7KGcj8sRTQ"
      }
    },
    {
      "cell_type": "code",
      "source": [
        "raw.info"
      ],
      "metadata": {
        "id": "ryRcLCllp9tv"
      },
      "execution_count": null,
      "outputs": []
    },
    {
      "cell_type": "code",
      "source": [
        "print(raw.info)"
      ],
      "metadata": {
        "id": "55QwKroEsSq1"
      },
      "execution_count": null,
      "outputs": []
    },
    {
      "cell_type": "markdown",
      "source": [
        "Let's see our EEG data. Basic MNE classes ([`Raw`](https://mne.tools/stable/generated/mne.io.Raw.html#mne.io.Raw), [`Epochs`](https://mne.tools/stable/generated/mne.Epochs.html), [`Evoked`](https://mne.tools/stable/generated/mne.Evoked.html)) have special method for plotting. Just call method `plot()` on the `Raw` object to see the data."
      ],
      "metadata": {
        "id": "J9WXjVIospu3"
      }
    },
    {
      "cell_type": "code",
      "source": [
        "fig = raw.plot()"
      ],
      "metadata": {
        "id": "UUrjR0Ibsmn_"
      },
      "execution_count": null,
      "outputs": []
    },
    {
      "cell_type": "code",
      "source": [
        "print(raw.info)"
      ],
      "metadata": {
        "id": "HHnmY8QGsmp8"
      },
      "execution_count": null,
      "outputs": []
    },
    {
      "cell_type": "markdown",
      "source": [
        "## Working with data"
      ],
      "metadata": {
        "id": "i1rTSVNDu_0x"
      }
    },
    {
      "cell_type": "markdown",
      "source": [
        "1. `Raw` store data as ndarray of `(n_channels, n_timepoints)` shape"
      ],
      "metadata": {
        "id": "qzDdKPOhvKBo"
      }
    },
    {
      "cell_type": "code",
      "source": [
        "raw_data = raw.get_data()\n",
        "print(raw_data)\n",
        "print(f'\\nRaw data shape: {raw_data.shape}')"
      ],
      "metadata": {
        "id": "pSc9-wMbu_Yr"
      },
      "execution_count": null,
      "outputs": []
    },
    {
      "cell_type": "markdown",
      "source": [
        "### Exercise 1\n",
        "You know the data shape and the sampling frequency. Calculate the length of the recorded signal in seconds."
      ],
      "metadata": {
        "id": "lD4b1Bzdva0e"
      }
    },
    {
      "cell_type": "markdown",
      "source": [
        "### Exercise 2\n",
        "\n",
        "Power Spectral Density (PSD) describes how the power (or variance) of a signal is distributed across different frequencies. It provides insight into the strength of the signal’s components at various frequencies, making it a useful tool for analyzing signals like EEG, audio, and other time-series data.\n",
        "\n",
        "**Below there is a plot of PSD for our resting-state sample. Can you read from it the frequency of the power line?**"
      ],
      "metadata": {
        "id": "uHXjj7j5vpKg"
      }
    },
    {
      "cell_type": "code",
      "source": [
        "fig = raw.compute_psd(fmin=0, fmax=100).plot()"
      ],
      "metadata": {
        "id": "ygTTQIo5uWlk"
      },
      "execution_count": null,
      "outputs": []
    },
    {
      "cell_type": "markdown",
      "source": [
        "**Can you tell from the PSD plot which brain frequencies are most pronounced in our resting-state sample?**"
      ],
      "metadata": {
        "id": "jUsdXmHEwlpy"
      }
    },
    {
      "cell_type": "markdown",
      "source": [
        "## Signal processing - filters"
      ],
      "metadata": {
        "id": "LKg3tVzOxHlu"
      }
    },
    {
      "cell_type": "markdown",
      "source": [
        "We have discussed filters and their main classes. Below are several examples of filter implementations. Some of them are integrated into `MNE`, while others are implemented using external libraries such as `scipy` or `numpy`."
      ],
      "metadata": {
        "id": "ZpRzCZszxMF0"
      }
    },
    {
      "cell_type": "markdown",
      "source": [
        "### 1. Static filters"
      ],
      "metadata": {
        "id": "CEVLBcKbtwN0"
      }
    },
    {
      "cell_type": "code",
      "source": [
        "# get data\n",
        "raw_signal = raw.get_data()\n",
        "\n",
        "# square data\n",
        "squared_raw_signal = np.square(raw_signal)\n",
        "\n",
        "# create new Raw with the squared data\n",
        "squared_raw = mne.io.RawArray(squared_raw_signal, raw.info)\n",
        "\n",
        "# plot squared Raw\n",
        "fig = squared_raw.plot(scalings=dict(eeg=20e-7))"
      ],
      "metadata": {
        "id": "sXh79Bg9tz5v"
      },
      "execution_count": null,
      "outputs": []
    },
    {
      "cell_type": "markdown",
      "source": [
        "You can do this in many ways:"
      ],
      "metadata": {
        "id": "53zuP4OBz5Hh"
      }
    },
    {
      "cell_type": "code",
      "source": [
        "# apply squaring function to Raw\n",
        "squared_raw = raw.copy().apply_function(lambda x: np.square(x))\n",
        "\n",
        "# plot squared Raw\n",
        "fig = squared_raw.plot(scalings=dict(eeg=20e-7))"
      ],
      "metadata": {
        "id": "-9OFZtSFy8TP"
      },
      "execution_count": null,
      "outputs": []
    },
    {
      "cell_type": "markdown",
      "source": [
        "#### Exerice 3\n",
        "\n",
        "Calculate the variance of the signal."
      ],
      "metadata": {
        "id": "MsF4JCv74OT8"
      }
    },
    {
      "cell_type": "code",
      "source": [
        "# your code here"
      ],
      "metadata": {
        "id": "uI1NuSWz4j_9"
      },
      "execution_count": null,
      "outputs": []
    },
    {
      "cell_type": "markdown",
      "source": [
        "### 2. Spatial filters"
      ],
      "metadata": {
        "id": "bP7g6Krzt0mV"
      }
    },
    {
      "cell_type": "markdown",
      "source": [
        "Re-referencing is commonely used in signal pre-processing. In fact, re-referencing is an example of spatial filter: new signal is a linear combination of the signal from the rest of electrodes.\n",
        "\n",
        "Imagine that our aim is to re-reference the signal to an average of the signal from all electrodes. It can be written as follow:\n",
        "\n",
        "$Y(n) = X(n) - \\frac{1}{m}\\sum_{i=0}^{i=m}x_i(n)$\n",
        "\n",
        "where $m$ is the number of channels."
      ],
      "metadata": {
        "id": "ixWkXTmv1q3i"
      }
    },
    {
      "cell_type": "markdown",
      "source": [
        "#### Exercise 4\n",
        "\n",
        "Try to implement re-referencing to the average on your own. Use `get_data()`, then calculate the average of all channels per timepint using `np.mean()` with correct `axis` parameter. Then you can iterate over channels and create new channels with re-referenced signal."
      ],
      "metadata": {
        "id": "Nje6t0Yf3kpA"
      }
    },
    {
      "cell_type": "code",
      "source": [
        "raw_signal = raw.get_data()\n",
        "\n",
        "# your code here"
      ],
      "metadata": {
        "id": "KxKcE0Yasmtl"
      },
      "execution_count": null,
      "outputs": []
    },
    {
      "cell_type": "markdown",
      "source": [
        "Re-referencing is also implemented in MNE:"
      ],
      "metadata": {
        "id": "NEVAoV1936i2"
      }
    },
    {
      "cell_type": "code",
      "source": [
        "raw_rereferenced = raw.copy().set_eeg_reference(ref_channels='average')\n",
        "\n",
        "# compare original and re-referenced signal\n",
        "fig = raw.plot()\n",
        "fig = raw_rereferenced.plot()"
      ],
      "metadata": {
        "id": "jcgshGRD3Lg1"
      },
      "execution_count": null,
      "outputs": []
    },
    {
      "cell_type": "markdown",
      "source": [
        "You can also choose the channel for re-referencing:"
      ],
      "metadata": {
        "id": "QBZEvqvoEHaE"
      }
    },
    {
      "cell_type": "code",
      "source": [
        "raw_rereferenced = raw.copy().set_eeg_reference(ref_channels=['Fp1'])\n",
        "\n",
        "# compare original and re-referenced signal\n",
        "fig = raw.plot()\n",
        "fig = raw_rereferenced.plot()"
      ],
      "metadata": {
        "collapsed": true,
        "id": "loSgcIOaEHh5"
      },
      "execution_count": null,
      "outputs": []
    },
    {
      "cell_type": "markdown",
      "source": [
        "### Temporal filters"
      ],
      "metadata": {
        "id": "v1Zw4sti4qpZ"
      }
    },
    {
      "cell_type": "markdown",
      "source": [
        "One example of a temporal filter is the moving average. The equation for the simple moving average is as follows:\n",
        "\n",
        "$T := y_i(n) = \\frac{1}{m} \\sum_{k=0}^{m-1} x_i (n-k)$"
      ],
      "metadata": {
        "id": "xUURRWjz5Tey"
      }
    },
    {
      "cell_type": "markdown",
      "source": [
        "#### (Exercise 5)\n",
        "Try implementing the moving average on your own."
      ],
      "metadata": {
        "id": "HFcDycLG55te"
      }
    },
    {
      "cell_type": "code",
      "source": [
        "# your code here"
      ],
      "metadata": {
        "id": "LTt9rRPT5S4w"
      },
      "execution_count": null,
      "outputs": []
    },
    {
      "cell_type": "markdown",
      "source": [
        "## Spectral filters"
      ],
      "metadata": {
        "id": "uuytG-Od4tTO"
      }
    },
    {
      "cell_type": "markdown",
      "source": [
        "Spectral filters are special cases of temporal filters. A commonly used filter in pre-processing is the band-pass filter, which limits the frequency range of the signal. Filters are implemented in `MNE` and can be easily used. Below, you can find the `MNE` code for a 1-30 Hz band-pass filter."
      ],
      "metadata": {
        "id": "SbkxOpPN6AlN"
      }
    },
    {
      "cell_type": "code",
      "source": [
        "l_freq = 1\n",
        "h_freq = 30\n",
        "\n",
        "filtered_raw = raw.copy().filter(\n",
        "      picks=['eeg', 'eog'],\n",
        "      l_freq=l_freq,\n",
        "      h_freq=h_freq,\n",
        "      method='iir',\n",
        "      iir_params=None\n",
        "      )\n",
        "\n",
        "# plot and compare Raws\n",
        "fig = raw.plot()\n",
        "fig = filtered_raw.plot()"
      ],
      "metadata": {
        "id": "_ducWTtSsmzE"
      },
      "execution_count": null,
      "outputs": []
    },
    {
      "cell_type": "markdown",
      "source": [
        "#### Exercise 6\n",
        "\n",
        "Look into the `MNE` documentation and apply a Notch filter to remove the power line noise. Apply the notch filter to `filtered_raw` to have both the band-pass and notch filters applied."
      ],
      "metadata": {
        "id": "fSknhyim625D"
      }
    },
    {
      "cell_type": "code",
      "source": [
        "# your code here"
      ],
      "metadata": {
        "id": "Y6DuA8Wz63Eu"
      },
      "execution_count": null,
      "outputs": []
    },
    {
      "cell_type": "markdown",
      "source": [
        "## (Exercise 7: Signal processing final pipeline from lecture)\n",
        "\n",
        "Try to implement the filter pipeline from the lecture that returns the amplitude of the alpha osscilations for each timepoint. The pipeline was as follows:\n",
        "\n",
        "`band-pass (8-13 Hz)` -> `square` -> `moving average` -> `square root`"
      ],
      "metadata": {
        "id": "GS2pygRh7x1W"
      }
    },
    {
      "cell_type": "code",
      "source": [
        "# your code here"
      ],
      "metadata": {
        "id": "x8Co5LSz94VZ"
      },
      "execution_count": null,
      "outputs": []
    },
    {
      "cell_type": "markdown",
      "source": [
        "## Prediction function framework"
      ],
      "metadata": {
        "id": "icsc47CZ_QUa"
      }
    },
    {
      "cell_type": "markdown",
      "source": [
        "Filters can be integrated into the prediction function framework, where part of the signal transformation is handled by the predictive function, and the other part is done using the filtering approach.\n",
        "\n",
        "Usually, spectral filtering is performed with filters, while spatial filters are part of the prediction function, which is applied to the final signal."
      ],
      "metadata": {
        "id": "XScWZEAaEkrI"
      }
    },
    {
      "cell_type": "markdown",
      "source": [
        "#### Exercise 8\n",
        "Below you have almost implemented the combined *filters + prediction function* solution for our problem. Try to finish it."
      ],
      "metadata": {
        "id": "IZd4Cz2EAJoX"
      }
    },
    {
      "cell_type": "code",
      "source": [
        "def predict_func(X):\n",
        "    \"\"\"\n",
        "    This function calculates the square root of the variance of the input signal X.\n",
        "\n",
        "    Parameters:\n",
        "    X : numpy.ndarray\n",
        "        The input signal, which can be a 1D or 2D array. In the case of 2D, it represents multiple channels.\n",
        "\n",
        "    Returns:\n",
        "    numpy.ndarray\n",
        "        The square root of the variance for each channel (or the entire signal if it's 1D).\n",
        "    \"\"\"\n",
        "    # Calculate the variance of the signal\n",
        "    variance = np.var(X, axis=-1)  # Variance along the last axis\n",
        "\n",
        "    # Return the square root of the variance\n",
        "    return np.sqrt(variance)"
      ],
      "metadata": {
        "id": "CkUQT-3B_mwV"
      },
      "execution_count": null,
      "outputs": []
    },
    {
      "cell_type": "code",
      "source": [
        "# 1. Filter data with the band pass\n",
        "l_freq = 8\n",
        "h_freq = 13\n",
        "filtered_raw = raw.copy().filter(\n",
        "      picks=['eeg', 'eog'],\n",
        "      l_freq=l_freq,\n",
        "      h_freq=h_freq,\n",
        "      method='iir',\n",
        "      iir_params=None\n",
        "      )\n",
        "\n",
        "# 2. For each timepoint i get k=10 elements chunks of data (i-k) and run the prediction function\n",
        "k=10\n",
        "data = filtered_raw.get_data(picks='Fz') # only one channel\n",
        "n = data.shape[-1] # number of samples (n_timepoints)\n",
        "\n",
        "y_predicted = []\n",
        "\n",
        "# your code here: iterate over samples, get chunks, and supply then to predict_func()"
      ],
      "metadata": {
        "id": "7tU25eza_xFV"
      },
      "execution_count": null,
      "outputs": []
    }
  ]
}