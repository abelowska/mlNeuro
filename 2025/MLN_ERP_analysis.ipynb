{
  "nbformat": 4,
  "nbformat_minor": 0,
  "metadata": {
    "colab": {
      "provenance": [],
      "toc_visible": true,
      "authorship_tag": "ABX9TyOSgoyUqAjLTyLyDhHGUd0c",
      "include_colab_link": true
    },
    "kernelspec": {
      "name": "python3",
      "display_name": "Python 3"
    },
    "language_info": {
      "name": "python"
    }
  },
  "cells": [
    {
      "cell_type": "markdown",
      "metadata": {
        "id": "view-in-github",
        "colab_type": "text"
      },
      "source": [
        "<a href=\"https://colab.research.google.com/github/abelowska/mlNeuro/blob/main/2025/MLN_ERP_analysis.ipynb\" target=\"_parent\"><img src=\"https://colab.research.google.com/assets/colab-badge.svg\" alt=\"Open In Colab\"/></a>"
      ]
    },
    {
      "cell_type": "markdown",
      "source": [
        "# ERP analysis in MNE"
      ],
      "metadata": {
        "id": "7Et0uoaM6IZR"
      }
    },
    {
      "cell_type": "markdown",
      "source": [
        "[`MNE`](https://mne.tools/stable/index.html) is an open-source Python package for exploring, visualizing, and analyzing human neurophysiological data: MEG, EEG, sEEG, ECoG, NIRS, and more.\n",
        "\n",
        "The easiest way is to install MNE via Anaconda, `pip`, or `conda` (see [installation instructions](https://mne.tools/stable/install/manual_install.html))."
      ],
      "metadata": {
        "id": "HqID6wxp6g5p"
      }
    },
    {
      "cell_type": "code",
      "source": [
        "!pip install mne"
      ],
      "metadata": {
        "id": "lrBNP7oQ5Irj"
      },
      "execution_count": null,
      "outputs": []
    },
    {
      "cell_type": "markdown",
      "source": [
        "Imports"
      ],
      "metadata": {
        "id": "7MTF2UKl6IbW"
      }
    },
    {
      "cell_type": "code",
      "execution_count": null,
      "metadata": {
        "id": "ce9bBEd04ulQ"
      },
      "outputs": [],
      "source": [
        "from pathlib import Path\n",
        "import matplotlib.pyplot as plt\n",
        "import mne\n",
        "import numpy as np\n",
        "import pandas as pd"
      ]
    },
    {
      "cell_type": "markdown",
      "source": [
        "## Raw"
      ],
      "metadata": {
        "id": "ifRuaAV27zX6"
      }
    },
    {
      "cell_type": "markdown",
      "source": [
        "We are going to use data from the [ERP CORE Dataset](https://doi.org/10.1016/j.neuroimage.2020.117465) via `MNE`. This dataset contains EEG recordings from a single participant performing the Flanker task. Thus, we can extract signal segments around events where we expect the synchronization of large populations of neurons, leading to observable event-related activity."
      ],
      "metadata": {
        "id": "vFw1IJYV75d0"
      }
    },
    {
      "cell_type": "code",
      "source": [
        "# download dataset\n",
        "data_dir = Path(mne.datasets.erp_core.data_path('.'))\n",
        "file_name = data_dir / \"ERP-CORE_Subject-001_Task-Flankers_eeg.fif\""
      ],
      "metadata": {
        "id": "3RGDU1ag5IEn"
      },
      "execution_count": null,
      "outputs": []
    },
    {
      "cell_type": "markdown",
      "source": [
        "**MNE**-Python data structures are based around the FIF file format from Neuromag, but there are reader functions for a wide [variety of other data formats](https://mne.tools/stable/overview/implementation.html#data-formats). Data is loaded into so-called [Raw](https://mne.tools/stable/generated/mne.io.Raw.html#mne.io.Raw) object.\n"
      ],
      "metadata": {
        "id": "MRb24nNn9nc9"
      }
    },
    {
      "cell_type": "code",
      "source": [
        "# read raw from one individual\n",
        "raw = mne.io.read_raw(file_name, preload=True)"
      ],
      "metadata": {
        "id": "91FrWLh05Yx-"
      },
      "execution_count": null,
      "outputs": []
    },
    {
      "cell_type": "markdown",
      "source": [
        "You can get a glimpse of the basic details of a Raw object by printing it; even more is available by printing its `info` attribute (a dictionary-like object that is preserved across Raw, Epochs, and Evoked objects). The `info` data structure keeps track of channel locations, applied filters, projectors, etc. Notice especially the chs entry, showing that MNE-Python detects different sensor types and handles each appropriately. See The Info data structure for more on the [`Info`](https://mne.tools/stable/generated/mne.Info.html) class."
      ],
      "metadata": {
        "id": "K5KI8Jf0-EVy"
      }
    },
    {
      "cell_type": "code",
      "source": [
        "raw.info"
      ],
      "metadata": {
        "id": "hEM9cx3V-SPY"
      },
      "execution_count": null,
      "outputs": []
    },
    {
      "cell_type": "code",
      "source": [
        "print(raw.info)"
      ],
      "metadata": {
        "id": "RJUYlItS-jVi"
      },
      "execution_count": null,
      "outputs": []
    },
    {
      "cell_type": "markdown",
      "source": [
        "Let's see our EEG data. Basic MNE classes ([`Raw`](https://mne.tools/stable/generated/mne.io.Raw.html#mne.io.Raw), [`Epochs`](https://mne.tools/stable/generated/mne.Epochs.html), [`Evoked`](https://mne.tools/stable/generated/mne.Evoked.html)) have special method for plotting. Just call method `plot()` on the `Raw` object to see the data."
      ],
      "metadata": {
        "id": "OyxLy0hX-yFn"
      }
    },
    {
      "cell_type": "code",
      "source": [
        "fig = raw.plot()"
      ],
      "metadata": {
        "id": "6ALQpt79-v2x"
      },
      "execution_count": null,
      "outputs": []
    },
    {
      "cell_type": "markdown",
      "source": [
        "It doesn't look pretty, does it? It's because EEG data is contaminated with the high frequencies. Take a look into the documentation of [`plot()`](https://mne.tools/stable/generated/mne.io.Raw.html#mne.io.Raw.plot) and plot our data with low- and high-pass filters and from the 60th second."
      ],
      "metadata": {
        "id": "H_1n3qom_v77"
      }
    },
    {
      "cell_type": "code",
      "source": [
        "fig = raw.plot(highpass=0.05, lowpass=40, start=60)"
      ],
      "metadata": {
        "id": "CIqWQu5w-v7d"
      },
      "execution_count": null,
      "outputs": []
    },
    {
      "cell_type": "markdown",
      "source": [
        "**On the plot, we can see the triggers (events) marked with vertical colored lines.**"
      ],
      "metadata": {
        "id": "1JAxRYKRBUsf"
      }
    },
    {
      "cell_type": "markdown",
      "source": [
        "**Annotations**\n",
        "\n",
        "[Annotations](https://mne.tools/stable/generated/mne.Annotations.html) in MNE-Python store short strings of information about temporal spans of a Raw object. Below the surface, Annotations are list-like objects, where each element comprises three pieces of information: an onset time (in seconds), a duration (also in seconds), and a description (a text string). Additionally, the Annotations object itself also keeps track of orig_time, which is a POSIX timestamp denoting a real-world time relative to which the annotation onsets should be interpreted. In general, annotations store information about [Events](https://mne.tools/dev/events.html#events) that occurred and were encoded during EEG recording. Such events could be a keystroke, the appearance of a target, feedback, etc.\n",
        "\n",
        "In our case, we have information on *responses* and *stimulus*."
      ],
      "metadata": {
        "id": "y50PLHjoBjs-"
      }
    },
    {
      "cell_type": "code",
      "source": [
        "# extract events\n",
        "events, event_ids = mne.events_from_annotations(raw)"
      ],
      "metadata": {
        "id": "Y0s6iRwj-v-M"
      },
      "execution_count": null,
      "outputs": []
    },
    {
      "cell_type": "code",
      "source": [
        "# display events names\n",
        "event_ids"
      ],
      "metadata": {
        "id": "cUpp8dXo-wAM"
      },
      "execution_count": null,
      "outputs": []
    },
    {
      "cell_type": "markdown",
      "source": [
        "**Event ids are defined as a dictionary of names and their codes, as we can see above.**\n",
        "\n",
        "The resulting events array is an ordinary 3-column `ndarray`, with **sample number** in the first column and **integer event ID** in the last column; the middle column is usually ignored."
      ],
      "metadata": {
        "id": "iXd43DMyFJOQ"
      }
    },
    {
      "cell_type": "code",
      "source": [
        "# display events\n",
        "events"
      ],
      "metadata": {
        "id": "bU0_cEs6E_An"
      },
      "execution_count": null,
      "outputs": []
    },
    {
      "cell_type": "markdown",
      "source": [
        "On the zoom plot below we can see stimulus and response events marked with coloured vertical lines and EEG signal on 32 electrodes."
      ],
      "metadata": {
        "id": "7_9teS2tF3HI"
      }
    },
    {
      "cell_type": "code",
      "source": [
        "fig = raw.plot(\n",
        "    start=60.5,\n",
        "    duration=1,\n",
        "    highpass=0.05,\n",
        "    lowpass=40,\n",
        "    n_channels=32,\n",
        "    show=False\n",
        ")\n",
        "\n",
        "plt.show()"
      ],
      "metadata": {
        "id": "umrfcApZE_C9"
      },
      "execution_count": null,
      "outputs": []
    },
    {
      "cell_type": "markdown",
      "source": [
        "For the further ERP analysis, let's filter our data with the bandpass filter:"
      ],
      "metadata": {
        "id": "ocoLoOAGG2uY"
      }
    },
    {
      "cell_type": "code",
      "source": [
        "# filter raw data\n",
        "raw_filtered = raw.copy().filter(l_freq=0.1, h_freq=30)\n",
        "\n",
        "# plot filtered data\n",
        "fig = raw_filtered.plot()"
      ],
      "metadata": {
        "id": "9VG7DjTOGktx"
      },
      "execution_count": null,
      "outputs": []
    },
    {
      "cell_type": "markdown",
      "source": [
        "Keep in mind that MNE methods work in place – MNE objects are mutable, and by default, operations are always performed in place, modifying your object. To keep your original object, always work on copies, e.g.\n",
        "\n",
        "```\n",
        "raw_filtered = raw.copy().filter(l_freq=0.1, h_freq=40)\n",
        "```"
      ],
      "metadata": {
        "id": "9pNDoOisH0QG"
      }
    },
    {
      "cell_type": "markdown",
      "source": [
        "**For now, we are not going to do any further signal pre-processing because the data is already basically pre-processed.**"
      ],
      "metadata": {
        "id": "bYAHmQraLPCv"
      }
    },
    {
      "cell_type": "markdown",
      "source": [
        "## Epochs"
      ],
      "metadata": {
        "id": "WgKb5jmeIdku"
      }
    },
    {
      "cell_type": "markdown",
      "source": [
        "The Raw object and the events array are the bare minimum needed to create an [`Epochs`](https://mne.tools/stable/generated/mne.Epochs.html#mne.Epochs) object, which we create with the `Epochs` class constructor.\n",
        "\n",
        "Basically, `Epochs` store single-trial event-related potentials (ERPs), thus they have to be constructed **around some defined events**.\n",
        "\n",
        "To do so, we **have to**:\n",
        "- pass the event dictionary as the `event_ids` parameter;\n",
        "- pass the list of events;\n",
        "- specify tmin and tmax (the time relative to each event at which to start and end each epoch).\n",
        "\n",
        "By default Raw and Epochs data aren’t loaded into memory (they’re accessed from disk only when needed), but here we’ll force loading into memory using the `preload=True`.\n",
        "\n",
        "Now, we are going to create an epoch around stimuli events that is in our `Raw`."
      ],
      "metadata": {
        "id": "fJs6ewj7Iprk"
      }
    },
    {
      "cell_type": "code",
      "source": [
        "# set the time-window of the segments\n",
        "tmin=-0.2\n",
        "tmax=0.8\n",
        "\n",
        "# get the events list from raw\n",
        "events, _ = mne.events_from_annotations(raw_filtered)\n",
        "\n",
        "# select only subset of our events - those related to stimuli\n",
        "event_ids = {\n",
        "  'stimulus/compatible/target_left': 3,\n",
        "  'stimulus/compatible/target_right': 4,\n",
        "  'stimulus/incompatible/target_left': 5,\n",
        "  'stimulus/incompatible/target_right': 6\n",
        " }\n",
        "\n",
        "# create segments (Epochs)\n",
        "epochs = mne.Epochs(\n",
        "  raw=raw_filtered,\n",
        "  events=events,\n",
        "  event_id=event_ids,\n",
        "  tmin=tmin,\n",
        "  tmax=tmax,\n",
        "  baseline=(-0.2, 0),\n",
        "  preload=True,\n",
        ")"
      ],
      "metadata": {
        "id": "pNBmWI3yIitP"
      },
      "execution_count": null,
      "outputs": []
    },
    {
      "cell_type": "markdown",
      "source": [
        "Again, we can print the basic details of `Epochs` object."
      ],
      "metadata": {
        "id": "RV9gAl9AJ8mP"
      }
    },
    {
      "cell_type": "code",
      "source": [
        "epochs"
      ],
      "metadata": {
        "id": "QHXI9VhYIivM"
      },
      "execution_count": null,
      "outputs": []
    },
    {
      "cell_type": "code",
      "source": [
        "epochs.info"
      ],
      "metadata": {
        "id": "ZvJ_mQMdIixb"
      },
      "execution_count": null,
      "outputs": []
    },
    {
      "cell_type": "markdown",
      "source": [
        "We can now plot the segmented signal:"
      ],
      "metadata": {
        "id": "40jekYddMxP1"
      }
    },
    {
      "cell_type": "code",
      "source": [
        "fig = epochs.plot(\n",
        "    events=events,\n",
        "    event_id=event_ids\n",
        ")"
      ],
      "metadata": {
        "id": "_4dj8rQvMxax"
      },
      "execution_count": null,
      "outputs": []
    },
    {
      "cell_type": "markdown",
      "source": [
        "Like `Raw`, `Epochs` also have a number of built-in plotting methods. One is [`plot_image()`](https://mne.tools/stable/generated/mne.Epochs.html#mne.Epochs.plot_image), which shows each epoch as one row of an image map, with color representing signal magnitude; the average evoked response and the sensor location are shown below the image:"
      ],
      "metadata": {
        "id": "xyCAVMCMKQvw"
      }
    },
    {
      "cell_type": "code",
      "source": [
        "fig = epochs.plot_image(picks=['FCz'])"
      ],
      "metadata": {
        "id": "nuQJE-yVIi0Q"
      },
      "execution_count": null,
      "outputs": []
    },
    {
      "cell_type": "markdown",
      "source": [
        "### Get data from epochs\n",
        "\n",
        "To extract data from `Epochs` as `ndarray`, as with `Raw`, use `get_data()` method. The resulting `ndarray` has shape of `(n_epochs, n_channels, n_samples)`:"
      ],
      "metadata": {
        "id": "_yI1UjuDS_h5"
      }
    },
    {
      "cell_type": "code",
      "source": [
        "epochs_data = epochs.get_data()\n",
        "print(epochs_data.shape)"
      ],
      "metadata": {
        "id": "Mt83Y4Q8S_qe"
      },
      "execution_count": null,
      "outputs": []
    },
    {
      "cell_type": "markdown",
      "source": [
        "## Evoked"
      ],
      "metadata": {
        "id": "YRiqFSFxLd77"
      }
    },
    {
      "cell_type": "markdown",
      "source": [
        "MNE-Python has a special object for averaged epochs called [`Evoked`](https://mne.tools/stable/generated/mne.Evoked.html#mne-evoked). `Evoked` objects typically store EEG or MEG signals that have been averaged over multiple epochs, which is a common technique for estimating stimulus-evoked activity (ERPs). Evoked objects can only contain the average of a single set of conditions. Evoked might created by calling `.average()` method on Epoch object.\n",
        "\n",
        "The data in an Evoked object are stored in an array of shape (`n_channels, n_times)` (in contrast to an Epochs object, which stores data of shape`(n_epochs, n_channels, n_times)`).\n",
        "\n",
        "The simplest way to create `Evoked` is to call `average()` method on `Epochs` ocject. The `Evoked` is a classic ERP wave."
      ],
      "metadata": {
        "id": "otU-n5ekLj5s"
      }
    },
    {
      "cell_type": "code",
      "source": [
        "# create evokeds\n",
        "congruent_erp = epochs['stimulus/compatible'].average()\n",
        "incongruent_erp = epochs['stimulus/incompatible'].average()"
      ],
      "metadata": {
        "id": "L_UVwZK5LdaV"
      },
      "execution_count": null,
      "outputs": []
    },
    {
      "cell_type": "markdown",
      "source": [
        "Let's see the info about the created object:"
      ],
      "metadata": {
        "id": "_9K1zEFnMHDb"
      }
    },
    {
      "cell_type": "code",
      "source": [
        "congruent_erp"
      ],
      "metadata": {
        "id": "wGaNwF5dLdcj"
      },
      "execution_count": null,
      "outputs": []
    },
    {
      "cell_type": "markdown",
      "source": [
        "The information about the signal in `Epochs` is transferred to derived `Evoked` objects:"
      ],
      "metadata": {
        "id": "hOa8dqz2MtIS"
      }
    },
    {
      "cell_type": "code",
      "source": [
        "congruent_erp.info"
      ],
      "metadata": {
        "id": "3pT7PUN6Ldeo"
      },
      "execution_count": null,
      "outputs": []
    },
    {
      "cell_type": "markdown",
      "source": [
        "We can plot the `Evoked`s using default method for plotting."
      ],
      "metadata": {
        "id": "A1YDgbUvMgk2"
      }
    },
    {
      "cell_type": "code",
      "source": [
        "fig = congruent_erp.plot(spatial_colors=True)\n",
        "fig = incongruent_erp.plot(spatial_colors=True)"
      ],
      "metadata": {
        "id": "qeAiS4jCLdgl"
      },
      "execution_count": null,
      "outputs": []
    },
    {
      "cell_type": "markdown",
      "source": [
        "We can use specific MNE method for visualization [`mne.viz.plot_compare_evokeds()`](https://mne.tools/stable/generated/mne.viz.plot_compare_evokeds.html#mne-viz-plot-compare-evokeds) to directly compare our two types of events: congruent-left and incongruent-left:  "
      ],
      "metadata": {
        "id": "9J2N7576NjoU"
      }
    },
    {
      "cell_type": "code",
      "source": [
        "# compare congruent and incongruent ERPs\n",
        "evokeds = dict(\n",
        "    congruent=congruent_erp,\n",
        "    incongruent=incongruent_erp\n",
        ")\n",
        "picks = ['Cz']\n",
        "\n",
        "fig = mne.viz.plot_compare_evokeds(\n",
        "    evokeds = evokeds,\n",
        "    picks=picks,\n",
        "    invert_y=True\n",
        ")"
      ],
      "metadata": {
        "id": "B8RAe4jSNj1k"
      },
      "execution_count": null,
      "outputs": []
    },
    {
      "cell_type": "markdown",
      "source": [
        "### Get data from Evoked\n",
        "\n",
        "To extract data from `Evoked` as `ndarray`, as with `Raw` and `Epochs`, use `get_data()` method. The resulting `ndarray` has shape of `(n_channels, n_samples)`:"
      ],
      "metadata": {
        "id": "yIdVbTLZTeir"
      }
    },
    {
      "cell_type": "code",
      "source": [
        "evoked_data = congruent_erp.get_data()\n",
        "print(evoked_data.shape)"
      ],
      "metadata": {
        "id": "wXhTyFH2Teir"
      },
      "execution_count": null,
      "outputs": []
    },
    {
      "cell_type": "markdown",
      "source": [
        "As with `Raw` and `Epochs` objects, `Evoked` gives a lot of opportunities to work on the signal. For an examples of manipulating and working with Evoked, see the [tutorial](https://mne.tools/stable/auto_tutorials/evoked/10_evoked_overview.html#sphx-glr-auto-tutorials-evoked-10-evoked-overview-py)."
      ],
      "metadata": {
        "id": "AmzEcg-MNkDr"
      }
    },
    {
      "cell_type": "markdown",
      "source": [
        "## Exercise: Basic ERP statistical analysis"
      ],
      "metadata": {
        "id": "4dg-NJ7YQl90"
      }
    },
    {
      "cell_type": "markdown",
      "source": [
        "On the plot above, it is visible that there is a difference between congruent and incongruent ERPs. Let's conduct a statistical analysis of the significance of this difference. We will use a t-test to test this difference.\n",
        "\n",
        "1. Create congruent epochs and incongruent epochs.\n",
        "2. (Think!) Select a time window and electrode most suitable for testing the difference.\n",
        "3. Use `get_data()` to extract data as an ndarray within the desired time window and on the desired channel. Now, your data for both congruent and incongruent epochs will have the shape `(n_epochs, n_channels, n_timepoints)`.\n",
        "4. Calculate the mean within the selected time window across all timepoints to get the average amplitude within the selected time window on the selected electrode.\n",
        "5. Use the t-test for related samples to compare congruent and incongruent epochs.\n",
        "\n",
        "```\n",
        "scipy.stats.ttest_rel(compatibile_data, incompatibile_data)\n",
        "```"
      ],
      "metadata": {
        "id": "QH4zt1d7RCNw"
      }
    },
    {
      "cell_type": "code",
      "source": [
        "# your code here"
      ],
      "metadata": {
        "id": "Nz0JezChQmFf"
      },
      "execution_count": null,
      "outputs": []
    }
  ]
}