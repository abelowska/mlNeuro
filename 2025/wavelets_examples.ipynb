{
  "nbformat": 4,
  "nbformat_minor": 0,
  "metadata": {
    "colab": {
      "provenance": [],
      "toc_visible": true,
      "authorship_tag": "ABX9TyNheJoKaCXHulqQBL9eSeoy",
      "include_colab_link": true
    },
    "kernelspec": {
      "name": "python3",
      "display_name": "Python 3"
    },
    "language_info": {
      "name": "python"
    }
  },
  "cells": [
    {
      "cell_type": "markdown",
      "metadata": {
        "id": "view-in-github",
        "colab_type": "text"
      },
      "source": [
        "<a href=\"https://colab.research.google.com/github/abelowska/mlNeuro/blob/main/2025/wavelets_examples.ipynb\" target=\"_parent\"><img src=\"https://colab.research.google.com/assets/colab-badge.svg\" alt=\"Open In Colab\"/></a>"
      ]
    },
    {
      "cell_type": "markdown",
      "source": [
        "# Wavelets"
      ],
      "metadata": {
        "id": "Io2fSf945ALn"
      }
    },
    {
      "cell_type": "code",
      "source": [
        "!pip install scipy==1.12.0\n",
        "!pip install mne\n",
        "!pip install ssqueezepy"
      ],
      "metadata": {
        "id": "Ucg0LhC05BIV"
      },
      "execution_count": null,
      "outputs": []
    },
    {
      "cell_type": "markdown",
      "source": [
        "Imports"
      ],
      "metadata": {
        "id": "YfMPRaIj4-xI"
      }
    },
    {
      "cell_type": "code",
      "source": [
        "from pathlib import Path\n",
        "import matplotlib.pyplot as plt\n",
        "import numpy as np\n",
        "import pandas as pd\n",
        "import mne\n",
        "from mne.datasets import eegbci\n",
        "from mne.datasets import sample\n",
        "from mne.decoding import UnsupervisedSpatialFilter, CSP, Vectorizer\n",
        "from mne.datasets import sample\n",
        "from mne import Epochs, pick_types\n",
        "from mne.channels import make_standard_montage\n",
        "from mne.datasets import eegbci\n",
        "from mne.decoding import CSP\n",
        "from mne.io import concatenate_raws, read_raw_edf\n",
        "\n",
        "from sklearn.model_selection import StratifiedKFold, cross_val_score, train_test_split, ShuffleSplit\n",
        "from sklearn.metrics import confusion_matrix, accuracy_score, precision_score, recall_score, classification_report\n",
        "from sklearn.pipeline import make_pipeline\n",
        "from sklearn.preprocessing import StandardScaler\n",
        "from sklearn.decomposition import PCA, FastICA\n",
        "from sklearn.pipeline import make_pipeline\n",
        "from sklearn.discriminant_analysis import LinearDiscriminantAnalysis\n",
        "from mne.time_frequency import tfr_morlet\n",
        "from ssqueezepy import Wavelet, cwt, icwt, issq_cwt\n",
        "from ssqueezepy.experimental import scale_to_freq, freq_to_scale\n",
        "\n",
        "import matplotlib.pyplot as plt"
      ],
      "metadata": {
        "id": "9Xu0PgVJ1vZZ"
      },
      "execution_count": null,
      "outputs": []
    },
    {
      "cell_type": "markdown",
      "source": [
        "## Load Motor Imagery dataset"
      ],
      "metadata": {
        "id": "-3bYbKt95MkD"
      }
    },
    {
      "cell_type": "markdown",
      "source": [
        "Read data and do basic pre-processing"
      ],
      "metadata": {
        "id": "pXgcQmnL5JRB"
      }
    },
    {
      "cell_type": "code",
      "source": [
        "def read_motor_imagery_epochs(\n",
        "    subject=1,\n",
        "    runs=[4, 8, 12],\n",
        "    tmin=-1.0,\n",
        "    tmax=4.0,\n",
        "    event_ids = ['left', 'right'],\n",
        "    ):\n",
        "\n",
        "  # load data from PhysioNet\n",
        "  raw_fnames = eegbci.load_data(subject, runs)\n",
        "  raw = concatenate_raws([read_raw_edf(f, preload=True) for f in raw_fnames])\n",
        "  eegbci.standardize(raw)  # set channel names\n",
        "\n",
        "  # set channels locations\n",
        "  montage = make_standard_montage(\"standard_1005\")\n",
        "  raw.set_montage(montage)\n",
        "\n",
        "  # rename annotations in raw\n",
        "  raw.annotations.rename(dict(T1=event_ids[0], T2=event_ids[1]))\n",
        "\n",
        "  # re-reference signal\n",
        "  raw.set_eeg_reference(projection=True)\n",
        "\n",
        "  # apply band-pass filter\n",
        "  l_freq = 1.0\n",
        "  h_freq = 30.0\n",
        "  raw_filtered = raw.filter(\n",
        "      l_freq,\n",
        "      h_freq,\n",
        "      fir_design=\"firwin\",\n",
        "      skip_by_annotation=\"edge\"\n",
        "  )\n",
        "  # apply Notch at 60 Hz\n",
        "  power_freq = 60\n",
        "  nyquist_freq = raw_filtered.info['sfreq'] / 2\n",
        "\n",
        "  raw_filtered = raw_filtered.notch_filter(\n",
        "      picks=['eeg', 'eog'],\n",
        "      freqs=np.arange(power_freq, nyquist_freq, power_freq),\n",
        "      n_jobs=10,\n",
        "  )\n",
        "\n",
        "  # pick only eeg channels\n",
        "  picks = pick_types(raw.info, meg=False, eeg=True, stim=False, eog=False, exclude=\"bads\")\n",
        "\n",
        "  # create epochs\n",
        "  epochs = Epochs(\n",
        "      raw_filtered,\n",
        "      event_id=event_ids,\n",
        "      tmin=tmin,\n",
        "      tmax=tmax,\n",
        "      proj=True,\n",
        "      picks=picks,\n",
        "      baseline=None,\n",
        "      preload=True,\n",
        "  )\n",
        "\n",
        "  return epochs"
      ],
      "metadata": {
        "id": "fBS79O6f5sZg"
      },
      "execution_count": null,
      "outputs": []
    },
    {
      "cell_type": "code",
      "source": [
        "subject = 1\n",
        "runs = [4, 8, 12]  # motor imagery: left vs right tasks\n",
        "event_ids = ['left', 'right']\n",
        "\n",
        "tmin, tmax = -1.0, 2.0\n",
        "\n",
        "epochs = read_motor_imagery_epochs(\n",
        "    subject=subject,\n",
        "    runs=runs,\n",
        "    tmin=tmin,\n",
        "    tmax=tmax,\n",
        "    event_ids = event_ids,\n",
        "    )"
      ],
      "metadata": {
        "id": "hJH1KnnC5zd2"
      },
      "execution_count": null,
      "outputs": []
    },
    {
      "cell_type": "markdown",
      "source": [
        "Look into power spectral density"
      ],
      "metadata": {
        "id": "-lNG2fWS57rM"
      }
    },
    {
      "cell_type": "code",
      "source": [
        "fig = epochs.compute_psd(fmin=2.0, fmax=40.0, tmax=3.0, n_jobs=None).plot()"
      ],
      "metadata": {
        "id": "S4T5czsd571G"
      },
      "execution_count": null,
      "outputs": []
    },
    {
      "cell_type": "markdown",
      "source": [
        "## Time-frequency decomposition using morelet wavelet - MNE implementation"
      ],
      "metadata": {
        "id": "oxbOpq9R1vjt"
      }
    },
    {
      "cell_type": "markdown",
      "source": [
        "Define parameters and perform decomposition"
      ],
      "metadata": {
        "id": "q6x2aqPp9SBY"
      }
    },
    {
      "cell_type": "code",
      "source": [
        "freqs = np.logspace(*np.log10([1, 30]), num=30)\n",
        "print(freqs)\n",
        "n_cycles = freqs / 1  # different number of cycle per frequency\n",
        "\n",
        "power, itc = epochs.compute_tfr(\n",
        "    method=\"morlet\",\n",
        "    freqs=freqs,\n",
        "    n_cycles=n_cycles,\n",
        "    average=True,\n",
        "    return_itc=True,\n",
        "    decim=3,\n",
        ")"
      ],
      "metadata": {
        "id": "7ltZVAzS7US2"
      },
      "execution_count": null,
      "outputs": []
    },
    {
      "cell_type": "markdown",
      "source": [
        "Inspect format of the results"
      ],
      "metadata": {
        "id": "x9OgLNLP_jzP"
      }
    },
    {
      "cell_type": "code",
      "source": [
        "power"
      ],
      "metadata": {
        "id": "RlQSg8ja_iwP"
      },
      "execution_count": null,
      "outputs": []
    },
    {
      "cell_type": "markdown",
      "source": [
        "Plot results"
      ],
      "metadata": {
        "id": "wZyZ5A0w9YYG"
      }
    },
    {
      "cell_type": "code",
      "source": [
        "# plot topomap of time-frequency\n",
        "power.plot_topo(baseline=(-1,0), mode=\"logratio\", title=\"Average power\")\n",
        "\n",
        "# plot time-frequancy solution for given channel\n",
        "ch_name = 'C3'\n",
        "ch_index = epochs.info.ch_names.index(ch_name)\n",
        "fig = power.plot(picks=[ch_index], baseline=(-2,0), mode=\"logratio\", title=ch_name, yscale='log')\n",
        "\n",
        "# joint plot\n",
        "fig = power.plot_joint(\n",
        "    baseline=(-1,0), mode=\"logratio\", tmin=tmin, tmax=2, timefreqs=[(0, 12), (1.25, 12)], picks=ch_name, yscale='log'\n",
        ")"
      ],
      "metadata": {
        "id": "wutNlVz07UXl"
      },
      "execution_count": null,
      "outputs": []
    },
    {
      "cell_type": "markdown",
      "source": [
        "## Time-frequency decomposition using morelet wavelet - ssqueezepy implementation"
      ],
      "metadata": {
        "id": "g4s7a6Kj9asa"
      }
    },
    {
      "cell_type": "markdown",
      "source": [
        "This is more manual implementation, but it allows you to choose many parameters directly, and thus to control your wavelet to the greater extend."
      ],
      "metadata": {
        "id": "z3JNV1nB-co-"
      }
    },
    {
      "cell_type": "code",
      "source": [
        "participant_epochs_reconstructed = []\n",
        "participant_epochs_original = []\n",
        "participant_epochs_Wx = []\n",
        "participant_epochs_normalized_Wx = []\n",
        "\n",
        "# define data - for now, only one channel\n",
        "channel = 'C3'\n",
        "epochs_data = epochs.copy().pick(channel)\n",
        "signal_freq = epochs.info['sfreq']\n",
        "\n",
        "# define wavelet and its parameters\n",
        "wavelet = Wavelet(('morlet', {'mu': 6}))\n",
        "scales = np.geomspace(5,500,200)\n",
        "\n",
        "N = epochs_data.get_data()[0].flatten().shape[0]\n",
        "freq = scale_to_freq(scales, wavelet, N=N, fs=signal_freq)\n",
        "\n",
        "for epoch in epochs_data:\n",
        "\n",
        "    Wx, scales = cwt(epoch.flatten(), wavelet, fs=signal_freq, scales=scales, padtype='wrap', l1_norm=True, nv=None)\n",
        "    time_domain_signal = icwt(Wx, wavelet, scales=scales, nv=None, padtype='wrap', l1_norm=True, x_mean=np.mean(epoch.flatten()))\n",
        "\n",
        "    participant_epochs_reconstructed.append(time_domain_signal)\n",
        "    participant_epochs_original.append(epoch.flatten())\n",
        "    participant_epochs_Wx.append(Wx)\n",
        "\n",
        "    # Compute and normalize the power spectrum from the CWT coefficients\n",
        "    power_spectrum = np.abs(Wx)**2\n",
        "    normalized_power_spectrum = power_spectrum / np.sum(power_spectrum)\n",
        "\n",
        "    participant_epochs_normalized_Wx.append(normalized_power_spectrum)"
      ],
      "metadata": {
        "id": "RNX7VEsDAG0T"
      },
      "execution_count": null,
      "outputs": []
    },
    {
      "cell_type": "markdown",
      "source": [
        "And look into the results (aggregated over epochs):"
      ],
      "metadata": {
        "id": "1fmmQqtAHUCO"
      }
    },
    {
      "cell_type": "code",
      "source": [
        "# agregate results\n",
        "evoked_original = np.mean(participant_epochs_original, axis=0)\n",
        "evoked_reconstructed = np.mean(participant_epochs_reconstructed, axis=0)\n",
        "mean_Wx = np.mean(participant_epochs_Wx, axis=0)\n",
        "mean_normalized_Wx = np.mean(participant_epochs_normalized_Wx, axis=0)\n",
        "\n",
        "print(f\"Original evoked shape: {evoked_original.shape}\\nReconstructed evoked shape: {evoked_reconstructed.shape}\\nWx shape: {mean_Wx.shape}\")"
      ],
      "metadata": {
        "id": "fTgZqznXHZjL"
      },
      "execution_count": null,
      "outputs": []
    },
    {
      "cell_type": "code",
      "source": [
        "# Plot CWT result\n",
        "\n",
        "# baseline\n",
        "mean_Wx_power = np.abs(mean_Wx)\n",
        "baseline_stop = int(1*signal_freq)\n",
        "baseline_mean = np.mean(mean_Wx_power[:, :baseline_stop], axis=1, keepdims=True)\n",
        "mean_Wx_baselined = mean_Wx_power - baseline_mean\n",
        "\n",
        "# Plot\n",
        "fig, ax = plt.subplots()\n",
        "im = ax.imshow(mean_Wx_baselined, aspect='auto', extent=[t[0], t[-1], freq[-1], freq[0]], origin='lower')\n",
        "ax.set_yscale('log')\n",
        "\n",
        "# Add colorbar and labels\n",
        "plt.colorbar(im, ax=ax)\n",
        "ax.set_xlabel(\"Time (s)\")\n",
        "ax.set_ylabel(\"Frequency (Hz)\")\n",
        "\n",
        "plt.show()"
      ],
      "metadata": {
        "id": "FjMZ1G2QHUKT"
      },
      "execution_count": null,
      "outputs": []
    },
    {
      "cell_type": "markdown",
      "source": [
        "And look into reconstruction quality:"
      ],
      "metadata": {
        "id": "jACK1-AeIKxo"
      }
    },
    {
      "cell_type": "code",
      "source": [
        "t = np.linspace(tmin, tmax, N)\n",
        "plt.plot(t, evoked_original, label='original signal')\n",
        "plt.plot(t, evoked_reconstructed, label='reconstructed signal')\n",
        "\n",
        "plt.legend()"
      ],
      "metadata": {
        "id": "27OmBBloDyqZ"
      },
      "execution_count": null,
      "outputs": []
    },
    {
      "cell_type": "code",
      "source": [],
      "metadata": {
        "id": "SLKMdIzhOMxl"
      },
      "execution_count": null,
      "outputs": []
    }
  ]
}